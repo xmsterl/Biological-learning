{
  "nbformat": 4,
  "nbformat_minor": 0,
  "metadata": {
    "colab": {
      "provenance": []
    },
    "kernelspec": {
      "name": "python3",
      "display_name": "Python 3"
    },
    "language_info": {
      "name": "python"
    }
  },
  "cells": [
    {
      "cell_type": "markdown",
      "source": [
        "# Session 7: Biological Learning\n",
        "\n",
        "## About this tutorial\n",
        "In this tutorial you will see how spike-timing-dependent plasticity (STDP), a Hebbian-like learning rule for spiking neurons, can be used to train a spiking feedforward network on an image classification task. The exercises presented here were developed by Matthieu Gilson and are based on examples in [Brian2: Spike-timing dependent plasticity](https://brian2.readthedocs.io/en/2.5.1/examples/synapses.STDP.html). \n",
        "\n",
        "First, we need to install the [Brian](https://briansimulator.org/) simulator. "
      ],
      "metadata": {
        "id": "w4LqgwMpCSx5"
      }
    },
    {
      "cell_type": "code",
      "execution_count": null,
      "metadata": {
        "id": "15RxYOxICGkA"
      },
      "outputs": [],
      "source": [
        "!pip install brian2 --quiet"
      ]
    },
    {
      "cell_type": "code",
      "source": [
        "from brian2 import *\n",
        "import numpy as np\n",
        "import struct\n",
        "import matplotlib.pyplot as plt"
      ],
      "metadata": {
        "id": "hc1_ebETCPT5"
      },
      "execution_count": 2,
      "outputs": []
    },
    {
      "cell_type": "markdown",
      "source": [
        "## Loading data\n",
        "\n",
        "Make sure the data is in the working directory."
      ],
      "metadata": {
        "id": "7QN0O5LkEJol"
      }
    },
    {
      "cell_type": "code",
      "source": [
        "data_dir = './' # 'data_MNIST/'\n",
        "\n",
        "# use test set as data here\n",
        "with open(data_dir+'t10k-images-idx3-ubyte','rb') as f:\n",
        "    magic, size = struct.unpack(\">II\", f.read(8))\n",
        "    nrows, ncols = struct.unpack(\">II\", f.read(8))\n",
        "    data = np.fromfile(f, dtype=np.dtype(np.uint8).newbyteorder('>'))\n",
        "    data = data.reshape((size, nrows, ncols))\n",
        "\n",
        "with open(data_dir+'t10k-labels-idx1-ubyte','rb') as f:\n",
        "    magic, size = struct.unpack(\">II\", f.read(8))\n",
        "    label = np.fromfile(f, dtype=np.dtype(np.uint8).newbyteorder('>'))\n",
        "\n",
        "\n",
        "data = np.array(data, dtype=float) / 255\n",
        "label = np.array(label, dtype=int)\n",
        "\n",
        "# select one digit (or several...)\n",
        "if False:\n",
        "    # select digit 3\n",
        "    valid_train = label==3\n",
        "else:\n",
        "    # select digits 0 and 3, so PCA gets the common parts of digits 0 and 3\n",
        "    valid_train = np.logical_or(label==0, label==3)\n",
        "# select desired digits\n",
        "data = data[valid_train,:]\n",
        "label = label[valid_train]\n",
        "\n",
        "P = valid_train.sum()\n"
      ],
      "metadata": {
        "id": "EJJvf_hwEONQ"
      },
      "execution_count": 5,
      "outputs": []
    },
    {
      "cell_type": "markdown",
      "source": [
        "## Specify neuron parameters\n",
        "\n"
      ],
      "metadata": {
        "id": "d3nBfyQyFWAH"
      }
    },
    {
      "cell_type": "code",
      "source": [
        "#%% from SDTP example\n",
        "\n",
        "N = 28**2\n",
        "taum = 10*ms\n",
        "taupre = 20*ms\n",
        "taupost = taupre\n",
        "Ee = 0*mV\n",
        "vt = -54*mV\n",
        "vr = -60*mV\n",
        "El = -74*mV\n",
        "taue = 5*ms\n",
        "gmax = 0.12\n",
        "dApre = 0.001\n",
        "dApost = -dApre * taupre / taupost * 1.05\n",
        "dBpre = 0.01\n",
        "dBpost = -0.01\n",
        "dApost *= gmax\n",
        "dApre *= gmax\n",
        "dBpre *= gmax\n",
        "dBpost *= gmax\n",
        "\n",
        "eqs_neurons = '''\n",
        "dv/dt = (ge * (Ee-v) + El - v) / taum : volt\n",
        "dge/dt = -ge / taue : 1\n",
        "'''\n"
      ],
      "metadata": {
        "id": "0spPOwjPFWP1"
      },
      "execution_count": 6,
      "outputs": []
    },
    {
      "cell_type": "markdown",
      "source": [
        "## Define functions\n",
        "\n",
        "We need a function to prepare inputs to the network and another function to perform simulations. Have a good look at these functions."
      ],
      "metadata": {
        "id": "F33JAZ37Flgp"
      }
    },
    {
      "cell_type": "code",
      "source": [
        "def get_input(t):\n",
        "    # reshape image in 1D vector\n",
        "    x = data[t,:,:].reshape([N]) * 6.0\n",
        "    return x\n",
        "\n",
        "def sim(pat_ind):\n",
        "    poisson_inputs = PoissonGroup(N, rates=1*Hz)\n",
        "    neurons = NeuronGroup(1, eqs_neurons, threshold='v>vt', reset='v = vr',\n",
        "                          method='euler')\n",
        "    S = Synapses(poisson_inputs, neurons,\n",
        "                  '''w : 1\n",
        "                     dApre/dt = -Apre / taupre : 1 (event-driven)\n",
        "                     dApost/dt = -Apost / taupost : 1 (event-driven)\n",
        "                  ''',\n",
        "                on_pre='''ge += w\n",
        "                          Apre += dApre\n",
        "                          w = clip(w + Apost + dBpre, 0, gmax)\n",
        "                       ''',\n",
        "                on_post='''Apost += dApost\n",
        "                            w = clip(w + Apre + dBpost, 0, gmax)\n",
        "                        ''',\n",
        "                 )\n",
        "    S.connect()\n",
        "    S.w = 'rand() * gmax'\n",
        "    \n",
        "    n_rep = pat_ind.size\n",
        "    w_hist = np.zeros([n_rep,N])\n",
        "    r_hist = np.zeros([n_rep,2])\n",
        "    \n",
        "    # loop over all digits\n",
        "    for i, p in enumerate(pat_ind):\n",
        "        # init monitors\n",
        "        in_rate_monitor = PopulationRateMonitor(poisson_inputs)\n",
        "        out_rate_monitor = PopulationRateMonitor(neurons)\n",
        "        # calculate output from input\n",
        "        x = get_input(p)\n",
        "        poisson_inputs.rates = x*Hz\n",
        "        # Oja's rule\n",
        "        run(1*second, report='text')\n",
        "        # monitoring\n",
        "        w_hist[i,:] = np.copy(S.w)\n",
        "        r_hist[i,0] = np.copy((in_rate_monitor.rate/Hz).mean())\n",
        "        r_hist[i,1] = np.copy((out_rate_monitor.rate/Hz).mean())\n",
        "        \n",
        "    \n",
        "    \n",
        "    return w_hist, r_hist"
      ],
      "metadata": {
        "id": "4y8T0pbrFlus"
      },
      "execution_count": 8,
      "outputs": []
    },
    {
      "cell_type": "markdown",
      "source": [
        "## Perform simulations"
      ],
      "metadata": {
        "id": "oDrXrI6xGHFk"
      }
    },
    {
      "cell_type": "code",
      "source": [
        "w_hist, r_hist = sim(np.arange(100))"
      ],
      "metadata": {
        "id": "yrxgRJQtGHSe"
      },
      "execution_count": null,
      "outputs": []
    },
    {
      "cell_type": "markdown",
      "source": [
        "## Plot results"
      ],
      "metadata": {
        "id": "DQ-U3L28GcoF"
      }
    },
    {
      "cell_type": "code",
      "source": [
        "plt.subplot(311)\n",
        "plt.plot(w_hist / gmax)\n",
        "plt.ylabel('Weight / gmax')\n",
        "plt.xlabel('training epoch')\n",
        "plt.subplot(312)\n",
        "plt.plot(w_hist[-1,:] / gmax, '.b')\n",
        "plt.xlabel('synapse index')\n",
        "plt.ylabel('Weight / gmax')\n",
        "plt.subplot(313)\n",
        "plt.plot(r_hist)\n",
        "plt.legend(['in','out'])\n",
        "plt.xlabel('training epoch')\n",
        "plt.ylabel('output rate')\n",
        "plt.tight_layout()\n",
        "plt.savefig('STDP_evol')\n",
        "\n",
        "# final pattern of weights in 2D\n",
        "w_aff = w_hist[-1,:].reshape([28,28]) # average over 100 last time steps\n",
        "plt.figure(figsize=[4,3])\n",
        "plt.axes([0.2,0.2,0.7,0.7])\n",
        "plt.imshow(w_aff, aspect=1, cmap='jet')\n",
        "plt.title('final weight pattern')\n",
        "plt.colorbar()\n",
        "plt.savefig('STDP_final_w_pattern')\n",
        "\n",
        "plt.show()\n"
      ],
      "metadata": {
        "id": "3stMadLkGcyh"
      },
      "execution_count": null,
      "outputs": []
    }
  ]
}